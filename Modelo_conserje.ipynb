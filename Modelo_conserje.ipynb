{
  "nbformat": 4,
  "nbformat_minor": 0,
  "metadata": {
    "colab": {
      "provenance": [],
      "authorship_tag": "ABX9TyOamhuFe6WRY3pQYvTIHP9J",
      "include_colab_link": true
    },
    "kernelspec": {
      "name": "python3",
      "display_name": "Python 3"
    },
    "language_info": {
      "name": "python"
    }
  },
  "cells": [
    {
      "cell_type": "markdown",
      "metadata": {
        "id": "view-in-github",
        "colab_type": "text"
      },
      "source": [
        "<a href=\"https://colab.research.google.com/github/rmanzi13/Conserje_inteligente/blob/main/Modelo_conserje.ipynb\" target=\"_parent\"><img src=\"https://colab.research.google.com/assets/colab-badge.svg\" alt=\"Open In Colab\"/></a>"
      ]
    },
    {
      "cell_type": "code",
      "execution_count": null,
      "metadata": {
        "id": "uLLzsINgpy6B"
      },
      "outputs": [],
      "source": [
        "import pandas as pd\n",
        "from sklearn.feature_extraction.text import TfidfVectorizer\n",
        "from sklearn.metrics.pairwise import linear_kernel"
      ]
    },
    {
      "cell_type": "code",
      "source": [
        "comidas = pd.read_csv(\"Comidas - comidas-villa-magna.csv\")\n",
        "usuarios = pd.read_csv(\"Usuarios - usuarios-villa-magna.csv\")\n",
        "bebidas = pd.read_csv(\"Bebidas - bebidas-villa-magna.csv\")"
      ],
      "metadata": {
        "id": "OBck-ge6p-i4"
      },
      "execution_count": null,
      "outputs": []
    },
    {
      "cell_type": "code",
      "source": [
        "usuarios.head(10)"
      ],
      "metadata": {
        "colab": {
          "base_uri": "https://localhost:8080/",
          "height": 363
        },
        "id": "Tk-sr_dbZwKN",
        "outputId": "510262a4-03af-44c3-9bf2-d3ebb15359c2"
      },
      "execution_count": null,
      "outputs": [
        {
          "output_type": "execute_result",
          "data": {
            "text/plain": [
              "   _Id     User_name              User_email User_pass        Alimentacion  \\\n",
              "0    1  Ana_Martinez  ana.martinez@email.com    ******              Vegana   \n",
              "1    2  Carlos_Rojas  carlos.rojas@email.com    ******         Vegetariana   \n",
              "2    3   Luisa_Perez   luisa.perez@email.com    ******          Sin gluten   \n",
              "3    4   Jorge_Gomez   jorge.gomez@email.com    ******               Halal   \n",
              "4    5   Sofia_Lopez   sofia.lopez@email.com    ******              Kosher   \n",
              "5    6   Usuario_006   usuario_006@email.com    ******  Vegana, Sin gluten   \n",
              "6    7   Usuario_007   usuario_007@email.com    ******                  No   \n",
              "7    8   Usuario_008   usuario_008@email.com    ******              Vegana   \n",
              "8    9   Usuario_009   usuario_009@email.com    ******         Vegetariana   \n",
              "9   10   Usuario_010   usuario_010@email.com    ******          Sin gluten   \n",
              "\n",
              "  Apto_para_alérgicos  \n",
              "0                  No  \n",
              "1                  No  \n",
              "2              Nueces  \n",
              "3                  No  \n",
              "4            Mariscos  \n",
              "5                  No  \n",
              "6             Lacteos  \n",
              "7                  No  \n",
              "8              Gluten  \n",
              "9                  No  "
            ],
            "text/html": [
              "\n",
              "  <div id=\"df-d9b5e840-5e9f-4336-85ab-d946b5c6e054\" class=\"colab-df-container\">\n",
              "    <div>\n",
              "<style scoped>\n",
              "    .dataframe tbody tr th:only-of-type {\n",
              "        vertical-align: middle;\n",
              "    }\n",
              "\n",
              "    .dataframe tbody tr th {\n",
              "        vertical-align: top;\n",
              "    }\n",
              "\n",
              "    .dataframe thead th {\n",
              "        text-align: right;\n",
              "    }\n",
              "</style>\n",
              "<table border=\"1\" class=\"dataframe\">\n",
              "  <thead>\n",
              "    <tr style=\"text-align: right;\">\n",
              "      <th></th>\n",
              "      <th>_Id</th>\n",
              "      <th>User_name</th>\n",
              "      <th>User_email</th>\n",
              "      <th>User_pass</th>\n",
              "      <th>Alimentacion</th>\n",
              "      <th>Apto_para_alérgicos</th>\n",
              "    </tr>\n",
              "  </thead>\n",
              "  <tbody>\n",
              "    <tr>\n",
              "      <th>0</th>\n",
              "      <td>1</td>\n",
              "      <td>Ana_Martinez</td>\n",
              "      <td>ana.martinez@email.com</td>\n",
              "      <td>******</td>\n",
              "      <td>Vegana</td>\n",
              "      <td>No</td>\n",
              "    </tr>\n",
              "    <tr>\n",
              "      <th>1</th>\n",
              "      <td>2</td>\n",
              "      <td>Carlos_Rojas</td>\n",
              "      <td>carlos.rojas@email.com</td>\n",
              "      <td>******</td>\n",
              "      <td>Vegetariana</td>\n",
              "      <td>No</td>\n",
              "    </tr>\n",
              "    <tr>\n",
              "      <th>2</th>\n",
              "      <td>3</td>\n",
              "      <td>Luisa_Perez</td>\n",
              "      <td>luisa.perez@email.com</td>\n",
              "      <td>******</td>\n",
              "      <td>Sin gluten</td>\n",
              "      <td>Nueces</td>\n",
              "    </tr>\n",
              "    <tr>\n",
              "      <th>3</th>\n",
              "      <td>4</td>\n",
              "      <td>Jorge_Gomez</td>\n",
              "      <td>jorge.gomez@email.com</td>\n",
              "      <td>******</td>\n",
              "      <td>Halal</td>\n",
              "      <td>No</td>\n",
              "    </tr>\n",
              "    <tr>\n",
              "      <th>4</th>\n",
              "      <td>5</td>\n",
              "      <td>Sofia_Lopez</td>\n",
              "      <td>sofia.lopez@email.com</td>\n",
              "      <td>******</td>\n",
              "      <td>Kosher</td>\n",
              "      <td>Mariscos</td>\n",
              "    </tr>\n",
              "    <tr>\n",
              "      <th>5</th>\n",
              "      <td>6</td>\n",
              "      <td>Usuario_006</td>\n",
              "      <td>usuario_006@email.com</td>\n",
              "      <td>******</td>\n",
              "      <td>Vegana, Sin gluten</td>\n",
              "      <td>No</td>\n",
              "    </tr>\n",
              "    <tr>\n",
              "      <th>6</th>\n",
              "      <td>7</td>\n",
              "      <td>Usuario_007</td>\n",
              "      <td>usuario_007@email.com</td>\n",
              "      <td>******</td>\n",
              "      <td>No</td>\n",
              "      <td>Lacteos</td>\n",
              "    </tr>\n",
              "    <tr>\n",
              "      <th>7</th>\n",
              "      <td>8</td>\n",
              "      <td>Usuario_008</td>\n",
              "      <td>usuario_008@email.com</td>\n",
              "      <td>******</td>\n",
              "      <td>Vegana</td>\n",
              "      <td>No</td>\n",
              "    </tr>\n",
              "    <tr>\n",
              "      <th>8</th>\n",
              "      <td>9</td>\n",
              "      <td>Usuario_009</td>\n",
              "      <td>usuario_009@email.com</td>\n",
              "      <td>******</td>\n",
              "      <td>Vegetariana</td>\n",
              "      <td>Gluten</td>\n",
              "    </tr>\n",
              "    <tr>\n",
              "      <th>9</th>\n",
              "      <td>10</td>\n",
              "      <td>Usuario_010</td>\n",
              "      <td>usuario_010@email.com</td>\n",
              "      <td>******</td>\n",
              "      <td>Sin gluten</td>\n",
              "      <td>No</td>\n",
              "    </tr>\n",
              "  </tbody>\n",
              "</table>\n",
              "</div>\n",
              "    <div class=\"colab-df-buttons\">\n",
              "\n",
              "  <div class=\"colab-df-container\">\n",
              "    <button class=\"colab-df-convert\" onclick=\"convertToInteractive('df-d9b5e840-5e9f-4336-85ab-d946b5c6e054')\"\n",
              "            title=\"Convert this dataframe to an interactive table.\"\n",
              "            style=\"display:none;\">\n",
              "\n",
              "  <svg xmlns=\"http://www.w3.org/2000/svg\" height=\"24px\" viewBox=\"0 -960 960 960\">\n",
              "    <path d=\"M120-120v-720h720v720H120Zm60-500h600v-160H180v160Zm220 220h160v-160H400v160Zm0 220h160v-160H400v160ZM180-400h160v-160H180v160Zm440 0h160v-160H620v160ZM180-180h160v-160H180v160Zm440 0h160v-160H620v160Z\"/>\n",
              "  </svg>\n",
              "    </button>\n",
              "\n",
              "  <style>\n",
              "    .colab-df-container {\n",
              "      display:flex;\n",
              "      gap: 12px;\n",
              "    }\n",
              "\n",
              "    .colab-df-convert {\n",
              "      background-color: #E8F0FE;\n",
              "      border: none;\n",
              "      border-radius: 50%;\n",
              "      cursor: pointer;\n",
              "      display: none;\n",
              "      fill: #1967D2;\n",
              "      height: 32px;\n",
              "      padding: 0 0 0 0;\n",
              "      width: 32px;\n",
              "    }\n",
              "\n",
              "    .colab-df-convert:hover {\n",
              "      background-color: #E2EBFA;\n",
              "      box-shadow: 0px 1px 2px rgba(60, 64, 67, 0.3), 0px 1px 3px 1px rgba(60, 64, 67, 0.15);\n",
              "      fill: #174EA6;\n",
              "    }\n",
              "\n",
              "    .colab-df-buttons div {\n",
              "      margin-bottom: 4px;\n",
              "    }\n",
              "\n",
              "    [theme=dark] .colab-df-convert {\n",
              "      background-color: #3B4455;\n",
              "      fill: #D2E3FC;\n",
              "    }\n",
              "\n",
              "    [theme=dark] .colab-df-convert:hover {\n",
              "      background-color: #434B5C;\n",
              "      box-shadow: 0px 1px 3px 1px rgba(0, 0, 0, 0.15);\n",
              "      filter: drop-shadow(0px 1px 2px rgba(0, 0, 0, 0.3));\n",
              "      fill: #FFFFFF;\n",
              "    }\n",
              "  </style>\n",
              "\n",
              "    <script>\n",
              "      const buttonEl =\n",
              "        document.querySelector('#df-d9b5e840-5e9f-4336-85ab-d946b5c6e054 button.colab-df-convert');\n",
              "      buttonEl.style.display =\n",
              "        google.colab.kernel.accessAllowed ? 'block' : 'none';\n",
              "\n",
              "      async function convertToInteractive(key) {\n",
              "        const element = document.querySelector('#df-d9b5e840-5e9f-4336-85ab-d946b5c6e054');\n",
              "        const dataTable =\n",
              "          await google.colab.kernel.invokeFunction('convertToInteractive',\n",
              "                                                    [key], {});\n",
              "        if (!dataTable) return;\n",
              "\n",
              "        const docLinkHtml = 'Like what you see? Visit the ' +\n",
              "          '<a target=\"_blank\" href=https://colab.research.google.com/notebooks/data_table.ipynb>data table notebook</a>'\n",
              "          + ' to learn more about interactive tables.';\n",
              "        element.innerHTML = '';\n",
              "        dataTable['output_type'] = 'display_data';\n",
              "        await google.colab.output.renderOutput(dataTable, element);\n",
              "        const docLink = document.createElement('div');\n",
              "        docLink.innerHTML = docLinkHtml;\n",
              "        element.appendChild(docLink);\n",
              "      }\n",
              "    </script>\n",
              "  </div>\n",
              "\n",
              "\n",
              "<div id=\"df-3cd25cba-349d-4323-a92e-5cedbdb19734\">\n",
              "  <button class=\"colab-df-quickchart\" onclick=\"quickchart('df-3cd25cba-349d-4323-a92e-5cedbdb19734')\"\n",
              "            title=\"Suggest charts\"\n",
              "            style=\"display:none;\">\n",
              "\n",
              "<svg xmlns=\"http://www.w3.org/2000/svg\" height=\"24px\"viewBox=\"0 0 24 24\"\n",
              "     width=\"24px\">\n",
              "    <g>\n",
              "        <path d=\"M19 3H5c-1.1 0-2 .9-2 2v14c0 1.1.9 2 2 2h14c1.1 0 2-.9 2-2V5c0-1.1-.9-2-2-2zM9 17H7v-7h2v7zm4 0h-2V7h2v10zm4 0h-2v-4h2v4z\"/>\n",
              "    </g>\n",
              "</svg>\n",
              "  </button>\n",
              "\n",
              "<style>\n",
              "  .colab-df-quickchart {\n",
              "      --bg-color: #E8F0FE;\n",
              "      --fill-color: #1967D2;\n",
              "      --hover-bg-color: #E2EBFA;\n",
              "      --hover-fill-color: #174EA6;\n",
              "      --disabled-fill-color: #AAA;\n",
              "      --disabled-bg-color: #DDD;\n",
              "  }\n",
              "\n",
              "  [theme=dark] .colab-df-quickchart {\n",
              "      --bg-color: #3B4455;\n",
              "      --fill-color: #D2E3FC;\n",
              "      --hover-bg-color: #434B5C;\n",
              "      --hover-fill-color: #FFFFFF;\n",
              "      --disabled-bg-color: #3B4455;\n",
              "      --disabled-fill-color: #666;\n",
              "  }\n",
              "\n",
              "  .colab-df-quickchart {\n",
              "    background-color: var(--bg-color);\n",
              "    border: none;\n",
              "    border-radius: 50%;\n",
              "    cursor: pointer;\n",
              "    display: none;\n",
              "    fill: var(--fill-color);\n",
              "    height: 32px;\n",
              "    padding: 0;\n",
              "    width: 32px;\n",
              "  }\n",
              "\n",
              "  .colab-df-quickchart:hover {\n",
              "    background-color: var(--hover-bg-color);\n",
              "    box-shadow: 0 1px 2px rgba(60, 64, 67, 0.3), 0 1px 3px 1px rgba(60, 64, 67, 0.15);\n",
              "    fill: var(--button-hover-fill-color);\n",
              "  }\n",
              "\n",
              "  .colab-df-quickchart-complete:disabled,\n",
              "  .colab-df-quickchart-complete:disabled:hover {\n",
              "    background-color: var(--disabled-bg-color);\n",
              "    fill: var(--disabled-fill-color);\n",
              "    box-shadow: none;\n",
              "  }\n",
              "\n",
              "  .colab-df-spinner {\n",
              "    border: 2px solid var(--fill-color);\n",
              "    border-color: transparent;\n",
              "    border-bottom-color: var(--fill-color);\n",
              "    animation:\n",
              "      spin 1s steps(1) infinite;\n",
              "  }\n",
              "\n",
              "  @keyframes spin {\n",
              "    0% {\n",
              "      border-color: transparent;\n",
              "      border-bottom-color: var(--fill-color);\n",
              "      border-left-color: var(--fill-color);\n",
              "    }\n",
              "    20% {\n",
              "      border-color: transparent;\n",
              "      border-left-color: var(--fill-color);\n",
              "      border-top-color: var(--fill-color);\n",
              "    }\n",
              "    30% {\n",
              "      border-color: transparent;\n",
              "      border-left-color: var(--fill-color);\n",
              "      border-top-color: var(--fill-color);\n",
              "      border-right-color: var(--fill-color);\n",
              "    }\n",
              "    40% {\n",
              "      border-color: transparent;\n",
              "      border-right-color: var(--fill-color);\n",
              "      border-top-color: var(--fill-color);\n",
              "    }\n",
              "    60% {\n",
              "      border-color: transparent;\n",
              "      border-right-color: var(--fill-color);\n",
              "    }\n",
              "    80% {\n",
              "      border-color: transparent;\n",
              "      border-right-color: var(--fill-color);\n",
              "      border-bottom-color: var(--fill-color);\n",
              "    }\n",
              "    90% {\n",
              "      border-color: transparent;\n",
              "      border-bottom-color: var(--fill-color);\n",
              "    }\n",
              "  }\n",
              "</style>\n",
              "\n",
              "  <script>\n",
              "    async function quickchart(key) {\n",
              "      const quickchartButtonEl =\n",
              "        document.querySelector('#' + key + ' button');\n",
              "      quickchartButtonEl.disabled = true;  // To prevent multiple clicks.\n",
              "      quickchartButtonEl.classList.add('colab-df-spinner');\n",
              "      try {\n",
              "        const charts = await google.colab.kernel.invokeFunction(\n",
              "            'suggestCharts', [key], {});\n",
              "      } catch (error) {\n",
              "        console.error('Error during call to suggestCharts:', error);\n",
              "      }\n",
              "      quickchartButtonEl.classList.remove('colab-df-spinner');\n",
              "      quickchartButtonEl.classList.add('colab-df-quickchart-complete');\n",
              "    }\n",
              "    (() => {\n",
              "      let quickchartButtonEl =\n",
              "        document.querySelector('#df-3cd25cba-349d-4323-a92e-5cedbdb19734 button');\n",
              "      quickchartButtonEl.style.display =\n",
              "        google.colab.kernel.accessAllowed ? 'block' : 'none';\n",
              "    })();\n",
              "  </script>\n",
              "</div>\n",
              "    </div>\n",
              "  </div>\n"
            ]
          },
          "metadata": {},
          "execution_count": 534
        }
      ]
    },
    {
      "cell_type": "code",
      "source": [
        "usuarios.shape"
      ],
      "metadata": {
        "colab": {
          "base_uri": "https://localhost:8080/"
        },
        "id": "bDMhHHPlZ9GC",
        "outputId": "2c6826f9-7897-4d3b-d431-f9173e2b05d9"
      },
      "execution_count": null,
      "outputs": [
        {
          "output_type": "execute_result",
          "data": {
            "text/plain": [
              "(20, 6)"
            ]
          },
          "metadata": {},
          "execution_count": 443
        }
      ]
    },
    {
      "cell_type": "code",
      "source": [
        "# Unimos todas las tablas en una sola\n",
        "data_final = pd.concat([comidas, usuarios, bebidas])"
      ],
      "metadata": {
        "id": "-LiCYqq2qOF9"
      },
      "execution_count": null,
      "outputs": []
    },
    {
      "cell_type": "code",
      "source": [
        "data_final.info()"
      ],
      "metadata": {
        "colab": {
          "base_uri": "https://localhost:8080/"
        },
        "id": "I_Q6IjWzqTfO",
        "outputId": "81070772-6784-4789-ce9b-3a8b32431f5c"
      },
      "execution_count": null,
      "outputs": [
        {
          "output_type": "stream",
          "name": "stdout",
          "text": [
            "<class 'pandas.core.frame.DataFrame'>\n",
            "Int64Index: 182 entries, 0 to 61\n",
            "Data columns (total 16 columns):\n",
            " #   Column               Non-Null Count  Dtype \n",
            "---  ------               --------------  ----- \n",
            " 0   _Id                  182 non-null    int64 \n",
            " 1   Plato_name           100 non-null    object\n",
            " 2   Plato_descripcion    100 non-null    object\n",
            " 3   Plato_tipo           100 non-null    object\n",
            " 4   Dieta_apto           100 non-null    object\n",
            " 5   Apto_alergicos       100 non-null    object\n",
            " 6   Tipo_de_comida       100 non-null    object\n",
            " 7   User_name            20 non-null     object\n",
            " 8   User_email           20 non-null     object\n",
            " 9   User_pass            20 non-null     object\n",
            " 10  Alimentacion         20 non-null     object\n",
            " 11  Apto_para_alérgicos  20 non-null     object\n",
            " 12  Bebida_name          62 non-null     object\n",
            " 13  Bebida_descripcion   62 non-null     object\n",
            " 14  Tipo_bebida          62 non-null     object\n",
            " 15  Aptitud_bebida       28 non-null     object\n",
            "dtypes: int64(1), object(15)\n",
            "memory usage: 24.2+ KB\n"
          ]
        }
      ]
    },
    {
      "cell_type": "code",
      "source": [
        "# Llenamos NaN en las columnas relevantes\n",
        "data_final = data_final.fillna('')"
      ],
      "metadata": {
        "id": "zgzP9-1xqfgn"
      },
      "execution_count": null,
      "outputs": []
    },
    {
      "cell_type": "code",
      "source": [
        "data_final.head(3)"
      ],
      "metadata": {
        "colab": {
          "base_uri": "https://localhost:8080/",
          "height": 267
        },
        "id": "4Db5URfFZOVc",
        "outputId": "40debcfe-af5e-4883-b0f1-0c5dbca7baca"
      },
      "execution_count": null,
      "outputs": [
        {
          "output_type": "execute_result",
          "data": {
            "text/plain": [
              "   _Id         Plato_name                        Plato_descripcion  \\\n",
              "0  101  Paella Valenciana  Tradicional paella con mariscos y pollo   \n",
              "1  102   Gazpacho Andaluz         Sopa fría de tomates y vegetales   \n",
              "2  103  Tortilla Española                      Tortilla de patatas   \n",
              "\n",
              "        Plato_tipo                                      Dieta_apto  \\\n",
              "0  Plato Principal                                          Normal   \n",
              "1          Entrada  Vegetariana, Vegana, Sin gluten, Halal, Kosher   \n",
              "2  Plato Principal                                     Vegetariana   \n",
              "\n",
              "  Apto_alergicos Tipo_de_comida User_name User_email User_pass Alimentacion  \\\n",
              "0       Mariscos       Española                                               \n",
              "1             Si       Andaluza                                               \n",
              "2             Si       Española                                               \n",
              "\n",
              "  Apto_para_alérgicos Bebida_name Bebida_descripcion Tipo_bebida  \\\n",
              "0                                                                  \n",
              "1                                                                  \n",
              "2                                                                  \n",
              "\n",
              "  Aptitud_bebida  \n",
              "0                 \n",
              "1                 \n",
              "2                 "
            ],
            "text/html": [
              "\n",
              "  <div id=\"df-c3f78eaa-84ea-4dbb-8289-1beaaae1a9a3\" class=\"colab-df-container\">\n",
              "    <div>\n",
              "<style scoped>\n",
              "    .dataframe tbody tr th:only-of-type {\n",
              "        vertical-align: middle;\n",
              "    }\n",
              "\n",
              "    .dataframe tbody tr th {\n",
              "        vertical-align: top;\n",
              "    }\n",
              "\n",
              "    .dataframe thead th {\n",
              "        text-align: right;\n",
              "    }\n",
              "</style>\n",
              "<table border=\"1\" class=\"dataframe\">\n",
              "  <thead>\n",
              "    <tr style=\"text-align: right;\">\n",
              "      <th></th>\n",
              "      <th>_Id</th>\n",
              "      <th>Plato_name</th>\n",
              "      <th>Plato_descripcion</th>\n",
              "      <th>Plato_tipo</th>\n",
              "      <th>Dieta_apto</th>\n",
              "      <th>Apto_alergicos</th>\n",
              "      <th>Tipo_de_comida</th>\n",
              "      <th>User_name</th>\n",
              "      <th>User_email</th>\n",
              "      <th>User_pass</th>\n",
              "      <th>Alimentacion</th>\n",
              "      <th>Apto_para_alérgicos</th>\n",
              "      <th>Bebida_name</th>\n",
              "      <th>Bebida_descripcion</th>\n",
              "      <th>Tipo_bebida</th>\n",
              "      <th>Aptitud_bebida</th>\n",
              "    </tr>\n",
              "  </thead>\n",
              "  <tbody>\n",
              "    <tr>\n",
              "      <th>0</th>\n",
              "      <td>101</td>\n",
              "      <td>Paella Valenciana</td>\n",
              "      <td>Tradicional paella con mariscos y pollo</td>\n",
              "      <td>Plato Principal</td>\n",
              "      <td>Normal</td>\n",
              "      <td>Mariscos</td>\n",
              "      <td>Española</td>\n",
              "      <td></td>\n",
              "      <td></td>\n",
              "      <td></td>\n",
              "      <td></td>\n",
              "      <td></td>\n",
              "      <td></td>\n",
              "      <td></td>\n",
              "      <td></td>\n",
              "      <td></td>\n",
              "    </tr>\n",
              "    <tr>\n",
              "      <th>1</th>\n",
              "      <td>102</td>\n",
              "      <td>Gazpacho Andaluz</td>\n",
              "      <td>Sopa fría de tomates y vegetales</td>\n",
              "      <td>Entrada</td>\n",
              "      <td>Vegetariana, Vegana, Sin gluten, Halal, Kosher</td>\n",
              "      <td>Si</td>\n",
              "      <td>Andaluza</td>\n",
              "      <td></td>\n",
              "      <td></td>\n",
              "      <td></td>\n",
              "      <td></td>\n",
              "      <td></td>\n",
              "      <td></td>\n",
              "      <td></td>\n",
              "      <td></td>\n",
              "      <td></td>\n",
              "    </tr>\n",
              "    <tr>\n",
              "      <th>2</th>\n",
              "      <td>103</td>\n",
              "      <td>Tortilla Española</td>\n",
              "      <td>Tortilla de patatas</td>\n",
              "      <td>Plato Principal</td>\n",
              "      <td>Vegetariana</td>\n",
              "      <td>Si</td>\n",
              "      <td>Española</td>\n",
              "      <td></td>\n",
              "      <td></td>\n",
              "      <td></td>\n",
              "      <td></td>\n",
              "      <td></td>\n",
              "      <td></td>\n",
              "      <td></td>\n",
              "      <td></td>\n",
              "      <td></td>\n",
              "    </tr>\n",
              "  </tbody>\n",
              "</table>\n",
              "</div>\n",
              "    <div class=\"colab-df-buttons\">\n",
              "\n",
              "  <div class=\"colab-df-container\">\n",
              "    <button class=\"colab-df-convert\" onclick=\"convertToInteractive('df-c3f78eaa-84ea-4dbb-8289-1beaaae1a9a3')\"\n",
              "            title=\"Convert this dataframe to an interactive table.\"\n",
              "            style=\"display:none;\">\n",
              "\n",
              "  <svg xmlns=\"http://www.w3.org/2000/svg\" height=\"24px\" viewBox=\"0 -960 960 960\">\n",
              "    <path d=\"M120-120v-720h720v720H120Zm60-500h600v-160H180v160Zm220 220h160v-160H400v160Zm0 220h160v-160H400v160ZM180-400h160v-160H180v160Zm440 0h160v-160H620v160ZM180-180h160v-160H180v160Zm440 0h160v-160H620v160Z\"/>\n",
              "  </svg>\n",
              "    </button>\n",
              "\n",
              "  <style>\n",
              "    .colab-df-container {\n",
              "      display:flex;\n",
              "      gap: 12px;\n",
              "    }\n",
              "\n",
              "    .colab-df-convert {\n",
              "      background-color: #E8F0FE;\n",
              "      border: none;\n",
              "      border-radius: 50%;\n",
              "      cursor: pointer;\n",
              "      display: none;\n",
              "      fill: #1967D2;\n",
              "      height: 32px;\n",
              "      padding: 0 0 0 0;\n",
              "      width: 32px;\n",
              "    }\n",
              "\n",
              "    .colab-df-convert:hover {\n",
              "      background-color: #E2EBFA;\n",
              "      box-shadow: 0px 1px 2px rgba(60, 64, 67, 0.3), 0px 1px 3px 1px rgba(60, 64, 67, 0.15);\n",
              "      fill: #174EA6;\n",
              "    }\n",
              "\n",
              "    .colab-df-buttons div {\n",
              "      margin-bottom: 4px;\n",
              "    }\n",
              "\n",
              "    [theme=dark] .colab-df-convert {\n",
              "      background-color: #3B4455;\n",
              "      fill: #D2E3FC;\n",
              "    }\n",
              "\n",
              "    [theme=dark] .colab-df-convert:hover {\n",
              "      background-color: #434B5C;\n",
              "      box-shadow: 0px 1px 3px 1px rgba(0, 0, 0, 0.15);\n",
              "      filter: drop-shadow(0px 1px 2px rgba(0, 0, 0, 0.3));\n",
              "      fill: #FFFFFF;\n",
              "    }\n",
              "  </style>\n",
              "\n",
              "    <script>\n",
              "      const buttonEl =\n",
              "        document.querySelector('#df-c3f78eaa-84ea-4dbb-8289-1beaaae1a9a3 button.colab-df-convert');\n",
              "      buttonEl.style.display =\n",
              "        google.colab.kernel.accessAllowed ? 'block' : 'none';\n",
              "\n",
              "      async function convertToInteractive(key) {\n",
              "        const element = document.querySelector('#df-c3f78eaa-84ea-4dbb-8289-1beaaae1a9a3');\n",
              "        const dataTable =\n",
              "          await google.colab.kernel.invokeFunction('convertToInteractive',\n",
              "                                                    [key], {});\n",
              "        if (!dataTable) return;\n",
              "\n",
              "        const docLinkHtml = 'Like what you see? Visit the ' +\n",
              "          '<a target=\"_blank\" href=https://colab.research.google.com/notebooks/data_table.ipynb>data table notebook</a>'\n",
              "          + ' to learn more about interactive tables.';\n",
              "        element.innerHTML = '';\n",
              "        dataTable['output_type'] = 'display_data';\n",
              "        await google.colab.output.renderOutput(dataTable, element);\n",
              "        const docLink = document.createElement('div');\n",
              "        docLink.innerHTML = docLinkHtml;\n",
              "        element.appendChild(docLink);\n",
              "      }\n",
              "    </script>\n",
              "  </div>\n",
              "\n",
              "\n",
              "<div id=\"df-e23fc015-de7d-4049-88bf-5ed46561af0f\">\n",
              "  <button class=\"colab-df-quickchart\" onclick=\"quickchart('df-e23fc015-de7d-4049-88bf-5ed46561af0f')\"\n",
              "            title=\"Suggest charts\"\n",
              "            style=\"display:none;\">\n",
              "\n",
              "<svg xmlns=\"http://www.w3.org/2000/svg\" height=\"24px\"viewBox=\"0 0 24 24\"\n",
              "     width=\"24px\">\n",
              "    <g>\n",
              "        <path d=\"M19 3H5c-1.1 0-2 .9-2 2v14c0 1.1.9 2 2 2h14c1.1 0 2-.9 2-2V5c0-1.1-.9-2-2-2zM9 17H7v-7h2v7zm4 0h-2V7h2v10zm4 0h-2v-4h2v4z\"/>\n",
              "    </g>\n",
              "</svg>\n",
              "  </button>\n",
              "\n",
              "<style>\n",
              "  .colab-df-quickchart {\n",
              "      --bg-color: #E8F0FE;\n",
              "      --fill-color: #1967D2;\n",
              "      --hover-bg-color: #E2EBFA;\n",
              "      --hover-fill-color: #174EA6;\n",
              "      --disabled-fill-color: #AAA;\n",
              "      --disabled-bg-color: #DDD;\n",
              "  }\n",
              "\n",
              "  [theme=dark] .colab-df-quickchart {\n",
              "      --bg-color: #3B4455;\n",
              "      --fill-color: #D2E3FC;\n",
              "      --hover-bg-color: #434B5C;\n",
              "      --hover-fill-color: #FFFFFF;\n",
              "      --disabled-bg-color: #3B4455;\n",
              "      --disabled-fill-color: #666;\n",
              "  }\n",
              "\n",
              "  .colab-df-quickchart {\n",
              "    background-color: var(--bg-color);\n",
              "    border: none;\n",
              "    border-radius: 50%;\n",
              "    cursor: pointer;\n",
              "    display: none;\n",
              "    fill: var(--fill-color);\n",
              "    height: 32px;\n",
              "    padding: 0;\n",
              "    width: 32px;\n",
              "  }\n",
              "\n",
              "  .colab-df-quickchart:hover {\n",
              "    background-color: var(--hover-bg-color);\n",
              "    box-shadow: 0 1px 2px rgba(60, 64, 67, 0.3), 0 1px 3px 1px rgba(60, 64, 67, 0.15);\n",
              "    fill: var(--button-hover-fill-color);\n",
              "  }\n",
              "\n",
              "  .colab-df-quickchart-complete:disabled,\n",
              "  .colab-df-quickchart-complete:disabled:hover {\n",
              "    background-color: var(--disabled-bg-color);\n",
              "    fill: var(--disabled-fill-color);\n",
              "    box-shadow: none;\n",
              "  }\n",
              "\n",
              "  .colab-df-spinner {\n",
              "    border: 2px solid var(--fill-color);\n",
              "    border-color: transparent;\n",
              "    border-bottom-color: var(--fill-color);\n",
              "    animation:\n",
              "      spin 1s steps(1) infinite;\n",
              "  }\n",
              "\n",
              "  @keyframes spin {\n",
              "    0% {\n",
              "      border-color: transparent;\n",
              "      border-bottom-color: var(--fill-color);\n",
              "      border-left-color: var(--fill-color);\n",
              "    }\n",
              "    20% {\n",
              "      border-color: transparent;\n",
              "      border-left-color: var(--fill-color);\n",
              "      border-top-color: var(--fill-color);\n",
              "    }\n",
              "    30% {\n",
              "      border-color: transparent;\n",
              "      border-left-color: var(--fill-color);\n",
              "      border-top-color: var(--fill-color);\n",
              "      border-right-color: var(--fill-color);\n",
              "    }\n",
              "    40% {\n",
              "      border-color: transparent;\n",
              "      border-right-color: var(--fill-color);\n",
              "      border-top-color: var(--fill-color);\n",
              "    }\n",
              "    60% {\n",
              "      border-color: transparent;\n",
              "      border-right-color: var(--fill-color);\n",
              "    }\n",
              "    80% {\n",
              "      border-color: transparent;\n",
              "      border-right-color: var(--fill-color);\n",
              "      border-bottom-color: var(--fill-color);\n",
              "    }\n",
              "    90% {\n",
              "      border-color: transparent;\n",
              "      border-bottom-color: var(--fill-color);\n",
              "    }\n",
              "  }\n",
              "</style>\n",
              "\n",
              "  <script>\n",
              "    async function quickchart(key) {\n",
              "      const quickchartButtonEl =\n",
              "        document.querySelector('#' + key + ' button');\n",
              "      quickchartButtonEl.disabled = true;  // To prevent multiple clicks.\n",
              "      quickchartButtonEl.classList.add('colab-df-spinner');\n",
              "      try {\n",
              "        const charts = await google.colab.kernel.invokeFunction(\n",
              "            'suggestCharts', [key], {});\n",
              "      } catch (error) {\n",
              "        console.error('Error during call to suggestCharts:', error);\n",
              "      }\n",
              "      quickchartButtonEl.classList.remove('colab-df-spinner');\n",
              "      quickchartButtonEl.classList.add('colab-df-quickchart-complete');\n",
              "    }\n",
              "    (() => {\n",
              "      let quickchartButtonEl =\n",
              "        document.querySelector('#df-e23fc015-de7d-4049-88bf-5ed46561af0f button');\n",
              "      quickchartButtonEl.style.display =\n",
              "        google.colab.kernel.accessAllowed ? 'block' : 'none';\n",
              "    })();\n",
              "  </script>\n",
              "</div>\n",
              "    </div>\n",
              "  </div>\n"
            ]
          },
          "metadata": {},
          "execution_count": 486
        }
      ]
    },
    {
      "cell_type": "code",
      "source": [
        "# Creamos perfiles de usuario y elementos\n",
        "perfiles_usuario = data_final[['User_name', 'Alimentacion']]\n",
        "perfiles_elemento['Perfil'] = perfiles_elemento[['Plato_name', 'Plato_tipo', 'Bebida_name', 'Tipo_bebida']].apply(lambda x: ' '.join(str(val) for val in x), axis=1)"
      ],
      "metadata": {
        "id": "pfdFjUOXqkUY"
      },
      "execution_count": null,
      "outputs": []
    },
    {
      "cell_type": "code",
      "source": [
        "perfiles_usuario = perfiles_usuario.astype(str)\n",
        "perfiles_elemento = perfiles_elemento.astype(str)\n",
        "\n",
        "# Elimina duplicados\n",
        "perfiles_elemento.drop_duplicates(subset='Perfil', inplace=True)\n",
        "\n",
        "# Reemplazar NaN con una cadena vacía ('') antes de aplicar el vectorizador\n",
        "perfiles_usuario['Alimentacion'].fillna('', inplace=True)\n",
        "perfiles_elemento.fillna('', inplace=True)"
      ],
      "metadata": {
        "id": "TPwBkoOxrvxq"
      },
      "execution_count": null,
      "outputs": []
    },
    {
      "cell_type": "code",
      "source": [
        "# Hacer una copia explícita para evitar SettingWithCopyWarning\n",
        "perfiles_usuario = perfiles_usuario.copy()\n",
        "perfiles_elemento = perfiles_elemento.copy()"
      ],
      "metadata": {
        "id": "tZejZNQ6w08f"
      },
      "execution_count": null,
      "outputs": []
    },
    {
      "cell_type": "code",
      "source": [
        "# Concatenamos las descripciones relevantes para el vectorizador TF-IDF\n",
        "perfiles_usuario.loc[:, 'Perfil'] = perfiles_usuario['Alimentacion']\n",
        "perfiles_elemento.loc[:, 'Perfil'] = perfiles_elemento.apply(lambda x: ' '.join(str(val) for val in x), axis=1)\n",
        "# Selecciona solo las columnas relevantes\n",
        "perfiles_elemento['Perfil'] = perfiles_elemento[['Plato_name', 'Plato_tipo', 'Bebida_name', 'Tipo_bebida']].apply(lambda x: ' '.join(str(val) for val in x), axis=1)\n"
      ],
      "metadata": {
        "id": "L7Fv2Wylq-8P"
      },
      "execution_count": null,
      "outputs": []
    },
    {
      "cell_type": "code",
      "source": [
        "# Usamos el vectorizador TF-IDF para convertir las descripciones en vectores\n",
        "vectorizer = TfidfVectorizer(stop_words='english')\n",
        "perfil_matrix = vectorizer.fit_transform(perfiles_usuario['Perfil'])\n",
        "elemento_matrix = vectorizer.transform(perfiles_elemento['Perfil'])"
      ],
      "metadata": {
        "id": "0ypbRyKLrH4g"
      },
      "execution_count": null,
      "outputs": []
    },
    {
      "cell_type": "code",
      "source": [
        "# Imprimimos algunas filas de perfiles_usuario y perfiles_elemento\n",
        "print(perfiles_usuario.head())\n",
        "print(perfiles_elemento.head())\n"
      ],
      "metadata": {
        "colab": {
          "base_uri": "https://localhost:8080/"
        },
        "id": "Ctyu14wL0YbC",
        "outputId": "b1de703c-b363-420f-863b-dd72f861eccd"
      },
      "execution_count": null,
      "outputs": [
        {
          "output_type": "stream",
          "name": "stdout",
          "text": [
            "  User_name Alimentacion Perfil\n",
            "0                              \n",
            "1                              \n",
            "2                              \n",
            "3                              \n",
            "4                              \n",
            "              Plato_name       Plato_tipo Bebida_name Tipo_bebida  \\\n",
            "0      Paella Valenciana  Plato Principal                           \n",
            "1       Gazpacho Andaluz          Entrada                           \n",
            "2      Tortilla Española  Plato Principal                           \n",
            "3     Croquetas de Jamón   Acompañamiento                           \n",
            "4  Ensalada Mediterránea          Entrada                           \n",
            "\n",
            "                                Perfil  \n",
            "0  Paella Valenciana Plato Principal    \n",
            "1           Gazpacho Andaluz Entrada    \n",
            "2  Tortilla Española Plato Principal    \n",
            "3  Croquetas de Jamón Acompañamiento    \n",
            "4      Ensalada Mediterránea Entrada    \n"
          ]
        }
      ]
    },
    {
      "cell_type": "code",
      "source": [
        "# Calculamos similitud de coseno entre perfiles de usuario y elementos\n",
        "cosine_similarities = linear_kernel(perfil_matrix, elemento_matrix)"
      ],
      "metadata": {
        "id": "gSiLV82VrROP"
      },
      "execution_count": null,
      "outputs": []
    },
    {
      "cell_type": "code",
      "source": [
        "# Creamos un DataFrame con las similitudes\n",
        "similarity_df = pd.DataFrame(cosine_similarities, index=perfiles_usuario['User_name'], columns=perfiles_elemento.index)"
      ],
      "metadata": {
        "id": "-CCuclJkrX04"
      },
      "execution_count": null,
      "outputs": []
    },
    {
      "cell_type": "code",
      "source": [
        "perfiles_elemento.head(3)"
      ],
      "metadata": {
        "colab": {
          "base_uri": "https://localhost:8080/",
          "height": 143
        },
        "id": "B-JEqNHB9b_1",
        "outputId": "dfbcb229-8171-4e87-eb1b-4540e71e13d7"
      },
      "execution_count": null,
      "outputs": [
        {
          "output_type": "execute_result",
          "data": {
            "text/plain": [
              "          Plato_name       Plato_tipo Bebida_name Tipo_bebida  \\\n",
              "0  Paella Valenciana  Plato Principal                           \n",
              "1   Gazpacho Andaluz          Entrada                           \n",
              "2  Tortilla Española  Plato Principal                           \n",
              "\n",
              "                                Perfil  \n",
              "0  Paella Valenciana Plato Principal    \n",
              "1           Gazpacho Andaluz Entrada    \n",
              "2  Tortilla Española Plato Principal    "
            ],
            "text/html": [
              "\n",
              "  <div id=\"df-2e4862f6-bc01-4746-b7d0-95f389f40041\" class=\"colab-df-container\">\n",
              "    <div>\n",
              "<style scoped>\n",
              "    .dataframe tbody tr th:only-of-type {\n",
              "        vertical-align: middle;\n",
              "    }\n",
              "\n",
              "    .dataframe tbody tr th {\n",
              "        vertical-align: top;\n",
              "    }\n",
              "\n",
              "    .dataframe thead th {\n",
              "        text-align: right;\n",
              "    }\n",
              "</style>\n",
              "<table border=\"1\" class=\"dataframe\">\n",
              "  <thead>\n",
              "    <tr style=\"text-align: right;\">\n",
              "      <th></th>\n",
              "      <th>Plato_name</th>\n",
              "      <th>Plato_tipo</th>\n",
              "      <th>Bebida_name</th>\n",
              "      <th>Tipo_bebida</th>\n",
              "      <th>Perfil</th>\n",
              "    </tr>\n",
              "  </thead>\n",
              "  <tbody>\n",
              "    <tr>\n",
              "      <th>0</th>\n",
              "      <td>Paella Valenciana</td>\n",
              "      <td>Plato Principal</td>\n",
              "      <td></td>\n",
              "      <td></td>\n",
              "      <td>Paella Valenciana Plato Principal</td>\n",
              "    </tr>\n",
              "    <tr>\n",
              "      <th>1</th>\n",
              "      <td>Gazpacho Andaluz</td>\n",
              "      <td>Entrada</td>\n",
              "      <td></td>\n",
              "      <td></td>\n",
              "      <td>Gazpacho Andaluz Entrada</td>\n",
              "    </tr>\n",
              "    <tr>\n",
              "      <th>2</th>\n",
              "      <td>Tortilla Española</td>\n",
              "      <td>Plato Principal</td>\n",
              "      <td></td>\n",
              "      <td></td>\n",
              "      <td>Tortilla Española Plato Principal</td>\n",
              "    </tr>\n",
              "  </tbody>\n",
              "</table>\n",
              "</div>\n",
              "    <div class=\"colab-df-buttons\">\n",
              "\n",
              "  <div class=\"colab-df-container\">\n",
              "    <button class=\"colab-df-convert\" onclick=\"convertToInteractive('df-2e4862f6-bc01-4746-b7d0-95f389f40041')\"\n",
              "            title=\"Convert this dataframe to an interactive table.\"\n",
              "            style=\"display:none;\">\n",
              "\n",
              "  <svg xmlns=\"http://www.w3.org/2000/svg\" height=\"24px\" viewBox=\"0 -960 960 960\">\n",
              "    <path d=\"M120-120v-720h720v720H120Zm60-500h600v-160H180v160Zm220 220h160v-160H400v160Zm0 220h160v-160H400v160ZM180-400h160v-160H180v160Zm440 0h160v-160H620v160ZM180-180h160v-160H180v160Zm440 0h160v-160H620v160Z\"/>\n",
              "  </svg>\n",
              "    </button>\n",
              "\n",
              "  <style>\n",
              "    .colab-df-container {\n",
              "      display:flex;\n",
              "      gap: 12px;\n",
              "    }\n",
              "\n",
              "    .colab-df-convert {\n",
              "      background-color: #E8F0FE;\n",
              "      border: none;\n",
              "      border-radius: 50%;\n",
              "      cursor: pointer;\n",
              "      display: none;\n",
              "      fill: #1967D2;\n",
              "      height: 32px;\n",
              "      padding: 0 0 0 0;\n",
              "      width: 32px;\n",
              "    }\n",
              "\n",
              "    .colab-df-convert:hover {\n",
              "      background-color: #E2EBFA;\n",
              "      box-shadow: 0px 1px 2px rgba(60, 64, 67, 0.3), 0px 1px 3px 1px rgba(60, 64, 67, 0.15);\n",
              "      fill: #174EA6;\n",
              "    }\n",
              "\n",
              "    .colab-df-buttons div {\n",
              "      margin-bottom: 4px;\n",
              "    }\n",
              "\n",
              "    [theme=dark] .colab-df-convert {\n",
              "      background-color: #3B4455;\n",
              "      fill: #D2E3FC;\n",
              "    }\n",
              "\n",
              "    [theme=dark] .colab-df-convert:hover {\n",
              "      background-color: #434B5C;\n",
              "      box-shadow: 0px 1px 3px 1px rgba(0, 0, 0, 0.15);\n",
              "      filter: drop-shadow(0px 1px 2px rgba(0, 0, 0, 0.3));\n",
              "      fill: #FFFFFF;\n",
              "    }\n",
              "  </style>\n",
              "\n",
              "    <script>\n",
              "      const buttonEl =\n",
              "        document.querySelector('#df-2e4862f6-bc01-4746-b7d0-95f389f40041 button.colab-df-convert');\n",
              "      buttonEl.style.display =\n",
              "        google.colab.kernel.accessAllowed ? 'block' : 'none';\n",
              "\n",
              "      async function convertToInteractive(key) {\n",
              "        const element = document.querySelector('#df-2e4862f6-bc01-4746-b7d0-95f389f40041');\n",
              "        const dataTable =\n",
              "          await google.colab.kernel.invokeFunction('convertToInteractive',\n",
              "                                                    [key], {});\n",
              "        if (!dataTable) return;\n",
              "\n",
              "        const docLinkHtml = 'Like what you see? Visit the ' +\n",
              "          '<a target=\"_blank\" href=https://colab.research.google.com/notebooks/data_table.ipynb>data table notebook</a>'\n",
              "          + ' to learn more about interactive tables.';\n",
              "        element.innerHTML = '';\n",
              "        dataTable['output_type'] = 'display_data';\n",
              "        await google.colab.output.renderOutput(dataTable, element);\n",
              "        const docLink = document.createElement('div');\n",
              "        docLink.innerHTML = docLinkHtml;\n",
              "        element.appendChild(docLink);\n",
              "      }\n",
              "    </script>\n",
              "  </div>\n",
              "\n",
              "\n",
              "<div id=\"df-d81e5b66-eb72-4a83-8548-85a683f864ec\">\n",
              "  <button class=\"colab-df-quickchart\" onclick=\"quickchart('df-d81e5b66-eb72-4a83-8548-85a683f864ec')\"\n",
              "            title=\"Suggest charts\"\n",
              "            style=\"display:none;\">\n",
              "\n",
              "<svg xmlns=\"http://www.w3.org/2000/svg\" height=\"24px\"viewBox=\"0 0 24 24\"\n",
              "     width=\"24px\">\n",
              "    <g>\n",
              "        <path d=\"M19 3H5c-1.1 0-2 .9-2 2v14c0 1.1.9 2 2 2h14c1.1 0 2-.9 2-2V5c0-1.1-.9-2-2-2zM9 17H7v-7h2v7zm4 0h-2V7h2v10zm4 0h-2v-4h2v4z\"/>\n",
              "    </g>\n",
              "</svg>\n",
              "  </button>\n",
              "\n",
              "<style>\n",
              "  .colab-df-quickchart {\n",
              "      --bg-color: #E8F0FE;\n",
              "      --fill-color: #1967D2;\n",
              "      --hover-bg-color: #E2EBFA;\n",
              "      --hover-fill-color: #174EA6;\n",
              "      --disabled-fill-color: #AAA;\n",
              "      --disabled-bg-color: #DDD;\n",
              "  }\n",
              "\n",
              "  [theme=dark] .colab-df-quickchart {\n",
              "      --bg-color: #3B4455;\n",
              "      --fill-color: #D2E3FC;\n",
              "      --hover-bg-color: #434B5C;\n",
              "      --hover-fill-color: #FFFFFF;\n",
              "      --disabled-bg-color: #3B4455;\n",
              "      --disabled-fill-color: #666;\n",
              "  }\n",
              "\n",
              "  .colab-df-quickchart {\n",
              "    background-color: var(--bg-color);\n",
              "    border: none;\n",
              "    border-radius: 50%;\n",
              "    cursor: pointer;\n",
              "    display: none;\n",
              "    fill: var(--fill-color);\n",
              "    height: 32px;\n",
              "    padding: 0;\n",
              "    width: 32px;\n",
              "  }\n",
              "\n",
              "  .colab-df-quickchart:hover {\n",
              "    background-color: var(--hover-bg-color);\n",
              "    box-shadow: 0 1px 2px rgba(60, 64, 67, 0.3), 0 1px 3px 1px rgba(60, 64, 67, 0.15);\n",
              "    fill: var(--button-hover-fill-color);\n",
              "  }\n",
              "\n",
              "  .colab-df-quickchart-complete:disabled,\n",
              "  .colab-df-quickchart-complete:disabled:hover {\n",
              "    background-color: var(--disabled-bg-color);\n",
              "    fill: var(--disabled-fill-color);\n",
              "    box-shadow: none;\n",
              "  }\n",
              "\n",
              "  .colab-df-spinner {\n",
              "    border: 2px solid var(--fill-color);\n",
              "    border-color: transparent;\n",
              "    border-bottom-color: var(--fill-color);\n",
              "    animation:\n",
              "      spin 1s steps(1) infinite;\n",
              "  }\n",
              "\n",
              "  @keyframes spin {\n",
              "    0% {\n",
              "      border-color: transparent;\n",
              "      border-bottom-color: var(--fill-color);\n",
              "      border-left-color: var(--fill-color);\n",
              "    }\n",
              "    20% {\n",
              "      border-color: transparent;\n",
              "      border-left-color: var(--fill-color);\n",
              "      border-top-color: var(--fill-color);\n",
              "    }\n",
              "    30% {\n",
              "      border-color: transparent;\n",
              "      border-left-color: var(--fill-color);\n",
              "      border-top-color: var(--fill-color);\n",
              "      border-right-color: var(--fill-color);\n",
              "    }\n",
              "    40% {\n",
              "      border-color: transparent;\n",
              "      border-right-color: var(--fill-color);\n",
              "      border-top-color: var(--fill-color);\n",
              "    }\n",
              "    60% {\n",
              "      border-color: transparent;\n",
              "      border-right-color: var(--fill-color);\n",
              "    }\n",
              "    80% {\n",
              "      border-color: transparent;\n",
              "      border-right-color: var(--fill-color);\n",
              "      border-bottom-color: var(--fill-color);\n",
              "    }\n",
              "    90% {\n",
              "      border-color: transparent;\n",
              "      border-bottom-color: var(--fill-color);\n",
              "    }\n",
              "  }\n",
              "</style>\n",
              "\n",
              "  <script>\n",
              "    async function quickchart(key) {\n",
              "      const quickchartButtonEl =\n",
              "        document.querySelector('#' + key + ' button');\n",
              "      quickchartButtonEl.disabled = true;  // To prevent multiple clicks.\n",
              "      quickchartButtonEl.classList.add('colab-df-spinner');\n",
              "      try {\n",
              "        const charts = await google.colab.kernel.invokeFunction(\n",
              "            'suggestCharts', [key], {});\n",
              "      } catch (error) {\n",
              "        console.error('Error during call to suggestCharts:', error);\n",
              "      }\n",
              "      quickchartButtonEl.classList.remove('colab-df-spinner');\n",
              "      quickchartButtonEl.classList.add('colab-df-quickchart-complete');\n",
              "    }\n",
              "    (() => {\n",
              "      let quickchartButtonEl =\n",
              "        document.querySelector('#df-d81e5b66-eb72-4a83-8548-85a683f864ec button');\n",
              "      quickchartButtonEl.style.display =\n",
              "        google.colab.kernel.accessAllowed ? 'block' : 'none';\n",
              "    })();\n",
              "  </script>\n",
              "</div>\n",
              "    </div>\n",
              "  </div>\n"
            ]
          },
          "metadata": {},
          "execution_count": 544
        }
      ]
    },
    {
      "cell_type": "code",
      "source": [
        "def recomendar_elementos(usuario, top_n=5):\n",
        "    if usuario in similarity_df.index:\n",
        "        recomendaciones_indices = similarity_df.loc[usuario].sort_values(ascending=False).head(top_n).index\n",
        "        recomendaciones_nombres = perfiles_elemento.loc[recomendaciones_indices, 'Perfil']\n",
        "        return recomendaciones_nombres\n",
        "    else:\n",
        "        return []"
      ],
      "metadata": {
        "id": "OSPClNxTrnku"
      },
      "execution_count": null,
      "outputs": []
    },
    {
      "cell_type": "code",
      "source": [
        "# Imprimo lista de usuarios\n",
        "print(\"Usuarios disponibles:\")\n",
        "print(data_final['User_name'].unique())"
      ],
      "metadata": {
        "colab": {
          "base_uri": "https://localhost:8080/"
        },
        "id": "t9EFTvj1rrjQ",
        "outputId": "21ae80ac-56a2-4d44-f73e-e52ddc6c0541"
      },
      "execution_count": null,
      "outputs": [
        {
          "output_type": "stream",
          "name": "stdout",
          "text": [
            "Usuarios disponibles:\n",
            "['' 'Ana_Martinez' 'Carlos_Rojas' 'Luisa_Perez' 'Jorge_Gomez'\n",
            " 'Sofia_Lopez' 'Usuario_006' 'Usuario_007' 'Usuario_008' 'Usuario_009'\n",
            " 'Usuario_010' 'Usuario_011' 'Usuario_012' 'Usuario_013' 'Usuario_014'\n",
            " 'Usuario_015' 'Usuario_016' 'Usuario_017' 'Usuario_018' 'Usuario_019'\n",
            " 'Usuario_020']\n"
          ]
        }
      ]
    },
    {
      "cell_type": "code",
      "source": [
        "# Ejemplo de recomendación para un usuario específico\n",
        "usuario_ejemplo = 'Usuario_009'\n",
        "recomendaciones_usuario = recomendar_elementos(usuario_ejemplo)\n",
        "\n",
        "print(f\"Recomendaciones para {usuario_ejemplo}: {recomendaciones_usuario}\")"
      ],
      "metadata": {
        "colab": {
          "base_uri": "https://localhost:8080/"
        },
        "id": "A-vuAd1tsCvm",
        "outputId": "43aa0488-dd2d-435e-c644-f6b554f9d358"
      },
      "execution_count": null,
      "outputs": [
        {
          "output_type": "stream",
          "name": "stdout",
          "text": [
            "Recomendaciones para Usuario_009: 20    Lasaña Vegetariana Plato Principal  \n",
            "20                     Mint Julep Cócteles\n",
            "0      Paella Valenciana Plato Principal  \n",
            "0                                         \n",
            "0                            Sangría Vinos\n",
            "26            Mousse de Chocolate Postre  \n",
            "26                  Cerveza Stout Cervezas\n",
            "11            Falafel con Hummus Entrada  \n",
            "11                Agua de Coco Sin alcohol\n",
            "12               Ceviche Peruano Entrada  \n",
            "12                    Whisky Sour Cócteles\n",
            "Name: Perfil, dtype: object\n"
          ]
        }
      ]
    },
    {
      "cell_type": "code",
      "source": [
        "# Ejemplo de recomendación para un usuario específico\n",
        "usuario_ejemplo = 'Usuario_013'\n",
        "recomendaciones_usuario = recomendar_elementos(usuario_ejemplo)\n",
        "\n",
        "print(f\"Recomendaciones para {usuario_ejemplo}: {recomendaciones_usuario}\")"
      ],
      "metadata": {
        "id": "Cd_rb2bTr8xO",
        "colab": {
          "base_uri": "https://localhost:8080/"
        },
        "outputId": "867187d2-9cc7-4d50-98d9-899696eca4bc"
      },
      "execution_count": null,
      "outputs": [
        {
          "output_type": "stream",
          "name": "stdout",
          "text": [
            "Recomendaciones para Usuario_013: 83             Tiramisú sin Gluten Postre  \n",
            "8     Hamburguesa Clásica Plato Principal  \n",
            "8              Refresco de Cola Sin alcohol\n",
            "19        Arroz con Pollo Plato Principal  \n",
            "19           Mocktail de Frutas Sin alcohol\n",
            "9                 Quiche Lorraine Entrada  \n",
            "9               Jugo de Naranja Sin alcohol\n",
            "25                Tarta de Manzana Postre  \n",
            "25               Lassi de Mango Sin alcohol\n",
            "Name: Perfil, dtype: object\n"
          ]
        }
      ]
    },
    {
      "cell_type": "code",
      "source": [
        "# Ejemplo de recomendación para un usuario específico\n",
        "usuario_ejemplo = 'Usuario_020'\n",
        "recomendaciones_usuario = recomendar_elementos(usuario_ejemplo)\n",
        "\n",
        "\n",
        "print(f\"Recomendaciones para {usuario_ejemplo}: {recomendaciones_usuario}\")"
      ],
      "metadata": {
        "colab": {
          "base_uri": "https://localhost:8080/"
        },
        "id": "swHXNqiDcJFD",
        "outputId": "f837f4e8-f3a2-4adf-ae48-972b943a2475"
      },
      "execution_count": null,
      "outputs": [
        {
          "output_type": "stream",
          "name": "stdout",
          "text": [
            "Recomendaciones para Usuario_020: 0     Paella Valenciana Plato Principal  \n",
            "0                                        \n",
            "0                           Sangría Vinos\n",
            "17        Tacos de Tofu Plato Principal  \n",
            "17                   Cerveza IPA Cervezas\n",
            "11           Falafel con Hummus Entrada  \n",
            "11               Agua de Coco Sin alcohol\n",
            "12              Ceviche Peruano Entrada  \n",
            "12                   Whisky Sour Cócteles\n",
            "13          Ratatouille Plato Principal  \n",
            "13                             Té Chai Te\n",
            "Name: Perfil, dtype: object\n"
          ]
        }
      ]
    },
    {
      "cell_type": "code",
      "source": [],
      "metadata": {
        "id": "2u8fwMybfBcI"
      },
      "execution_count": null,
      "outputs": []
    },
    {
      "cell_type": "markdown",
      "source": [
        "### Creao función para exportar el modelo"
      ],
      "metadata": {
        "id": "WGOwSZXffWQf"
      }
    },
    {
      "cell_type": "code",
      "source": [
        "import pandas as pd\n",
        "from sklearn.feature_extraction.text import TfidfVectorizer\n",
        "from sklearn.metrics.pairwise import linear_kernel\n",
        "import joblib  # Para exportar/importar el modelo"
      ],
      "metadata": {
        "id": "LCQ28kdAfg4w"
      },
      "execution_count": null,
      "outputs": []
    },
    {
      "cell_type": "code",
      "source": [
        "# Reemplazar NaN con una cadena vacía ('') antes de aplicar el vectorizador\n",
        "perfiles_usuario['Alimentacion'].fillna('', inplace=True)\n",
        "perfiles_elemento.fillna('', inplace=True)\n",
        "\n",
        "# Concatenamos las descripciones relevantes para el vectorizador TF-IDF\n",
        "perfiles_usuario.loc[:, 'Perfil'] = perfiles_usuario['Alimentacion']\n",
        "perfiles_elemento['Perfil'] = perfiles_elemento[['Plato_name', 'Plato_tipo', 'Bebida_name', 'Tipo_bebida']].apply(lambda x: ' '.join(str(val) for val in x), axis=1)\n",
        "perfiles_elemento.drop_duplicates(subset='Perfil', inplace=True)"
      ],
      "metadata": {
        "id": "8zJYE9nsv_ZO"
      },
      "execution_count": null,
      "outputs": []
    },
    {
      "cell_type": "code",
      "source": [
        "def cargar_datos():\n",
        "    comidas = pd.read_csv(\"Comidas - comidas-villa-magna.csv\")\n",
        "    usuarios = pd.read_csv(\"Usuarios - usuarios-villa-magna.csv\")\n",
        "    bebidas = pd.read_csv(\"Bebidas - bebidas-villa-magna.csv\")\n",
        "\n",
        "    # Unimos todas las tablas en una sola\n",
        "    data_final = pd.concat([comidas, usuarios, bebidas])\n",
        "\n",
        "    # Creamos perfiles de usuario y elementos\n",
        "    perfiles_usuario = data_final[['User_name', 'Alimentacion']]\n",
        "    perfiles_elemento = data_final[['Plato_name', 'Plato_tipo', 'Bebida_name', 'Tipo_bebida']]\n",
        "\n",
        "    # Reemplazar NaN con una cadena vacía ('') antes de aplicar el vectorizador\n",
        "    perfiles_usuario['Alimentacion'].fillna('', inplace=True)\n",
        "    perfiles_elemento.fillna('', inplace=True)\n",
        "\n",
        "    # Hacer una copia explícita para evitar SettingWithCopyWarning\n",
        "    perfiles_usuario = perfiles_usuario.copy()\n",
        "    perfiles_elemento = perfiles_elemento.copy()\n",
        "\n",
        "\n",
        "    # Concatenamos las descripciones relevantes para el vectorizador TF-IDF\n",
        "    perfiles_usuario.loc[:, 'Perfil'] = perfiles_usuario['Alimentacion']\n",
        "   # Selecciona solo las columnas relevantes\n",
        "    perfiles_elemento['Perfil'] = perfiles_elemento[['Plato_name', 'Plato_tipo', 'Bebida_name', 'Tipo_bebida']].apply(lambda x: ' '.join(str(val) for val in x), axis=1)\n",
        "\n",
        "   # Elimina duplicados\n",
        "    perfiles_elemento.drop_duplicates(subset='Perfil', inplace=True)\n",
        "\n",
        "\n",
        "    # Usamos el vectorizador TF-IDF para convertir las descripciones en vectores\n",
        "    vectorizer = TfidfVectorizer(stop_words='english')\n",
        "    perfil_matrix = vectorizer.fit_transform(perfiles_usuario['Perfil'])\n",
        "    elemento_matrix = vectorizer.transform(perfiles_elemento['Perfil'])\n",
        "\n",
        "    # Calculamos similitud de coseno entre perfiles de usuario y elementos\n",
        "    cosine_similarities = linear_kernel(perfil_matrix, elemento_matrix)\n",
        "\n",
        "    # Creamos un DataFrame con las similitudes\n",
        "    similarity_df = pd.DataFrame(cosine_similarities, index=perfiles_usuario['User_name'], columns=perfiles_elemento.index)\n",
        "\n",
        "    return perfil_matrix, elemento_matrix, similarity_df"
      ],
      "metadata": {
        "id": "vGN9fe54fiuu"
      },
      "execution_count": null,
      "outputs": []
    },
    {
      "cell_type": "code",
      "source": [
        "def exportar_modelo():\n",
        "    perfil_matrix, elemento_matrix, similarity_df = cargar_datos()\n",
        "\n",
        "    # Guardar el modelo utilizando joblib\n",
        "    joblib.dump(perfil_matrix, 'perfil_matrix.pkl')\n",
        "    joblib.dump(elemento_matrix, 'elemento_matrix.pkl')\n",
        "    joblib.dump(similarity_df, 'similarity_df.pkl')"
      ],
      "metadata": {
        "id": "OHs1Lszahem2"
      },
      "execution_count": null,
      "outputs": []
    },
    {
      "cell_type": "code",
      "source": [
        "\n",
        "def recomendar_elementos(usuario, top_n=5):\n",
        "    perfil_matrix, elemento_matrix, similarity_df = cargar_modelo()\n",
        "    if usuario in similarity_df.index:\n",
        "        recomendaciones_indices = similarity_df.loc[usuario].sort_values(ascending=False).head(top_n).index\n",
        "        recomendaciones_nombres = perfiles_elemento.loc[recomendaciones_indices, 'Perfil']\n",
        "        return recomendaciones_nombres\n",
        "    else:\n",
        "        return []\n"
      ],
      "metadata": {
        "id": "gv79mdVJkVXw"
      },
      "execution_count": null,
      "outputs": []
    },
    {
      "cell_type": "code",
      "source": [
        "# Ejemplo de uso\n",
        "if __name__ == \"__main__\":\n",
        "    # Exportar el modelo\n",
        "    exportar_modelo()\n",
        "\n",
        "    # Ejemplo de recomendación\n",
        "    usuario_ejemplo = 'Usuario_009'\n",
        "    recomendaciones_usuario = recomendar_elementos(usuario_ejemplo)\n",
        "    print(f\"Recomendaciones para {usuario_ejemplo}: {recomendaciones_usuario}\")"
      ],
      "metadata": {
        "colab": {
          "base_uri": "https://localhost:8080/"
        },
        "id": "gsjgqKo31CK1",
        "outputId": "81838ed0-8695-495a-f071-59d0862a6f1b"
      },
      "execution_count": null,
      "outputs": [
        {
          "output_type": "stream",
          "name": "stdout",
          "text": [
            "Recomendaciones para Usuario_009: 20    Lasaña Vegetariana Plato Principal  \n",
            "20                     Mint Julep Cócteles\n",
            "0      Paella Valenciana Plato Principal  \n",
            "0                                         \n",
            "0                            Sangría Vinos\n",
            "26            Mousse de Chocolate Postre  \n",
            "26                  Cerveza Stout Cervezas\n",
            "11            Falafel con Hummus Entrada  \n",
            "11                Agua de Coco Sin alcohol\n",
            "12               Ceviche Peruano Entrada  \n",
            "12                    Whisky Sour Cócteles\n",
            "Name: Perfil, dtype: object\n"
          ]
        },
        {
          "output_type": "stream",
          "name": "stderr",
          "text": [
            "<ipython-input-552-6dcf6f31a20d>:14: SettingWithCopyWarning: \n",
            "A value is trying to be set on a copy of a slice from a DataFrame\n",
            "\n",
            "See the caveats in the documentation: https://pandas.pydata.org/pandas-docs/stable/user_guide/indexing.html#returning-a-view-versus-a-copy\n",
            "  perfiles_usuario['Alimentacion'].fillna('', inplace=True)\n",
            "<ipython-input-552-6dcf6f31a20d>:15: SettingWithCopyWarning: \n",
            "A value is trying to be set on a copy of a slice from a DataFrame\n",
            "\n",
            "See the caveats in the documentation: https://pandas.pydata.org/pandas-docs/stable/user_guide/indexing.html#returning-a-view-versus-a-copy\n",
            "  perfiles_elemento.fillna('', inplace=True)\n"
          ]
        }
      ]
    },
    {
      "cell_type": "code",
      "source": [
        "from google.colab import files\n",
        "\n",
        "# Supongamos que \"perfil_matrix.pkl\", \"elemento_matrix.pkl\" y \"similarity_df.pkl\" son los nombres de tus archivos\n",
        "files.download(\"perfil_matrix.pkl\")\n",
        "files.download(\"elemento_matrix.pkl\")\n",
        "files.download(\"similarity_df.pkl\")\n"
      ],
      "metadata": {
        "colab": {
          "base_uri": "https://localhost:8080/",
          "height": 17
        },
        "id": "pq-42VkM7tB4",
        "outputId": "405e23cd-e82a-4877-c1c8-c6e767f53636"
      },
      "execution_count": null,
      "outputs": [
        {
          "output_type": "display_data",
          "data": {
            "text/plain": [
              "<IPython.core.display.Javascript object>"
            ],
            "application/javascript": [
              "\n",
              "    async function download(id, filename, size) {\n",
              "      if (!google.colab.kernel.accessAllowed) {\n",
              "        return;\n",
              "      }\n",
              "      const div = document.createElement('div');\n",
              "      const label = document.createElement('label');\n",
              "      label.textContent = `Downloading \"${filename}\": `;\n",
              "      div.appendChild(label);\n",
              "      const progress = document.createElement('progress');\n",
              "      progress.max = size;\n",
              "      div.appendChild(progress);\n",
              "      document.body.appendChild(div);\n",
              "\n",
              "      const buffers = [];\n",
              "      let downloaded = 0;\n",
              "\n",
              "      const channel = await google.colab.kernel.comms.open(id);\n",
              "      // Send a message to notify the kernel that we're ready.\n",
              "      channel.send({})\n",
              "\n",
              "      for await (const message of channel.messages) {\n",
              "        // Send a message to notify the kernel that we're ready.\n",
              "        channel.send({})\n",
              "        if (message.buffers) {\n",
              "          for (const buffer of message.buffers) {\n",
              "            buffers.push(buffer);\n",
              "            downloaded += buffer.byteLength;\n",
              "            progress.value = downloaded;\n",
              "          }\n",
              "        }\n",
              "      }\n",
              "      const blob = new Blob(buffers, {type: 'application/binary'});\n",
              "      const a = document.createElement('a');\n",
              "      a.href = window.URL.createObjectURL(blob);\n",
              "      a.download = filename;\n",
              "      div.appendChild(a);\n",
              "      a.click();\n",
              "      div.remove();\n",
              "    }\n",
              "  "
            ]
          },
          "metadata": {}
        },
        {
          "output_type": "display_data",
          "data": {
            "text/plain": [
              "<IPython.core.display.Javascript object>"
            ],
            "application/javascript": [
              "download(\"download_6144a6b4-489b-4fb9-bb2a-887dbab2f2bb\", \"perfil_matrix.pkl\", 1507)"
            ]
          },
          "metadata": {}
        },
        {
          "output_type": "display_data",
          "data": {
            "text/plain": [
              "<IPython.core.display.Javascript object>"
            ],
            "application/javascript": [
              "\n",
              "    async function download(id, filename, size) {\n",
              "      if (!google.colab.kernel.accessAllowed) {\n",
              "        return;\n",
              "      }\n",
              "      const div = document.createElement('div');\n",
              "      const label = document.createElement('label');\n",
              "      label.textContent = `Downloading \"${filename}\": `;\n",
              "      div.appendChild(label);\n",
              "      const progress = document.createElement('progress');\n",
              "      progress.max = size;\n",
              "      div.appendChild(progress);\n",
              "      document.body.appendChild(div);\n",
              "\n",
              "      const buffers = [];\n",
              "      let downloaded = 0;\n",
              "\n",
              "      const channel = await google.colab.kernel.comms.open(id);\n",
              "      // Send a message to notify the kernel that we're ready.\n",
              "      channel.send({})\n",
              "\n",
              "      for await (const message of channel.messages) {\n",
              "        // Send a message to notify the kernel that we're ready.\n",
              "        channel.send({})\n",
              "        if (message.buffers) {\n",
              "          for (const buffer of message.buffers) {\n",
              "            buffers.push(buffer);\n",
              "            downloaded += buffer.byteLength;\n",
              "            progress.value = downloaded;\n",
              "          }\n",
              "        }\n",
              "      }\n",
              "      const blob = new Blob(buffers, {type: 'application/binary'});\n",
              "      const a = document.createElement('a');\n",
              "      a.href = window.URL.createObjectURL(blob);\n",
              "      a.download = filename;\n",
              "      div.appendChild(a);\n",
              "      a.click();\n",
              "      div.remove();\n",
              "    }\n",
              "  "
            ]
          },
          "metadata": {}
        },
        {
          "output_type": "display_data",
          "data": {
            "text/plain": [
              "<IPython.core.display.Javascript object>"
            ],
            "application/javascript": [
              "download(\"download_d99ad967-f1c0-411d-b32e-4c31a7e911fb\", \"elemento_matrix.pkl\", 1227)"
            ]
          },
          "metadata": {}
        },
        {
          "output_type": "display_data",
          "data": {
            "text/plain": [
              "<IPython.core.display.Javascript object>"
            ],
            "application/javascript": [
              "\n",
              "    async function download(id, filename, size) {\n",
              "      if (!google.colab.kernel.accessAllowed) {\n",
              "        return;\n",
              "      }\n",
              "      const div = document.createElement('div');\n",
              "      const label = document.createElement('label');\n",
              "      label.textContent = `Downloading \"${filename}\": `;\n",
              "      div.appendChild(label);\n",
              "      const progress = document.createElement('progress');\n",
              "      progress.max = size;\n",
              "      div.appendChild(progress);\n",
              "      document.body.appendChild(div);\n",
              "\n",
              "      const buffers = [];\n",
              "      let downloaded = 0;\n",
              "\n",
              "      const channel = await google.colab.kernel.comms.open(id);\n",
              "      // Send a message to notify the kernel that we're ready.\n",
              "      channel.send({})\n",
              "\n",
              "      for await (const message of channel.messages) {\n",
              "        // Send a message to notify the kernel that we're ready.\n",
              "        channel.send({})\n",
              "        if (message.buffers) {\n",
              "          for (const buffer of message.buffers) {\n",
              "            buffers.push(buffer);\n",
              "            downloaded += buffer.byteLength;\n",
              "            progress.value = downloaded;\n",
              "          }\n",
              "        }\n",
              "      }\n",
              "      const blob = new Blob(buffers, {type: 'application/binary'});\n",
              "      const a = document.createElement('a');\n",
              "      a.href = window.URL.createObjectURL(blob);\n",
              "      a.download = filename;\n",
              "      div.appendChild(a);\n",
              "      a.click();\n",
              "      div.remove();\n",
              "    }\n",
              "  "
            ]
          },
          "metadata": {}
        },
        {
          "output_type": "display_data",
          "data": {
            "text/plain": [
              "<IPython.core.display.Javascript object>"
            ],
            "application/javascript": [
              "download(\"download_f31affaa-0218-45c4-8c08-dac2af5ce21a\", \"similarity_df.pkl\", 212188)"
            ]
          },
          "metadata": {}
        }
      ]
    },
    {
      "cell_type": "code",
      "source": [
        "pip  install flack"
      ],
      "metadata": {
        "colab": {
          "base_uri": "https://localhost:8080/"
        },
        "id": "mKXRV3U4B8jE",
        "outputId": "fca267ed-1ea0-49f3-b373-460ff0ac5903"
      },
      "execution_count": null,
      "outputs": [
        {
          "output_type": "stream",
          "name": "stdout",
          "text": [
            "Requirement already satisfied: flack in /usr/local/lib/python3.10/dist-packages (1.3.7)\n",
            "Requirement already satisfied: flask in /usr/local/lib/python3.10/dist-packages (from flack) (2.2.5)\n",
            "Requirement already satisfied: requests in /usr/local/lib/python3.10/dist-packages (from flack) (2.31.0)\n",
            "Requirement already satisfied: Werkzeug>=2.2.2 in /usr/local/lib/python3.10/dist-packages (from flask->flack) (3.0.1)\n",
            "Requirement already satisfied: Jinja2>=3.0 in /usr/local/lib/python3.10/dist-packages (from flask->flack) (3.1.2)\n",
            "Requirement already satisfied: itsdangerous>=2.0 in /usr/local/lib/python3.10/dist-packages (from flask->flack) (2.1.2)\n",
            "Requirement already satisfied: click>=8.0 in /usr/local/lib/python3.10/dist-packages (from flask->flack) (8.1.7)\n",
            "Requirement already satisfied: charset-normalizer<4,>=2 in /usr/local/lib/python3.10/dist-packages (from requests->flack) (3.3.2)\n",
            "Requirement already satisfied: idna<4,>=2.5 in /usr/local/lib/python3.10/dist-packages (from requests->flack) (3.6)\n",
            "Requirement already satisfied: urllib3<3,>=1.21.1 in /usr/local/lib/python3.10/dist-packages (from requests->flack) (2.0.7)\n",
            "Requirement already satisfied: certifi>=2017.4.17 in /usr/local/lib/python3.10/dist-packages (from requests->flack) (2023.11.17)\n",
            "Requirement already satisfied: MarkupSafe>=2.0 in /usr/local/lib/python3.10/dist-packages (from Jinja2>=3.0->flask->flack) (2.1.3)\n"
          ]
        }
      ]
    },
    {
      "cell_type": "markdown",
      "source": [
        "### Creación Servidor local"
      ],
      "metadata": {
        "id": "Qp83-67qOKG2"
      }
    },
    {
      "cell_type": "code",
      "source": [
        "import http.server\n",
        "import socketserver\n",
        "\n",
        "PORT = 8000\n",
        "\n",
        "Handler = http.server.SimpleHTTPRequestHandler\n",
        "\n",
        "with socketserver.TCPServer((\"\", PORT), Handler) as httpd:\n",
        "    print(\"serving at port\", PORT)\n",
        "    httpd.serve_forever()"
      ],
      "metadata": {
        "id": "raMHy-8Jdre5"
      },
      "execution_count": null,
      "outputs": []
    },
    {
      "cell_type": "markdown",
      "source": [
        "### Uso Flask"
      ],
      "metadata": {
        "id": "HoQED84_OZNS"
      }
    },
    {
      "cell_type": "code",
      "source": [
        "from flask import Flask, redirect\n",
        "\n",
        "app = Flask(__name__)\n",
        "\n",
        "@app.route('/descargar_perfil_matrix')\n",
        "def descargar_perfil_matrix():\n",
        "    # Reemplazo 'ENLACE_DE_GOOGLE_DRIVE' con el enlace directo de Google Drive\n",
        "    return redirect('/content/perfil_matrix.pkl')\n",
        "\n",
        "if __name__ == '__main__':\n",
        "    app.run(debug=True)"
      ],
      "metadata": {
        "colab": {
          "base_uri": "https://localhost:8080/"
        },
        "id": "MPjK9fLs8DdD",
        "outputId": "24b83dfa-8419-4cfa-85c7-f3e202b4335e"
      },
      "execution_count": null,
      "outputs": [
        {
          "output_type": "stream",
          "name": "stdout",
          "text": [
            " * Serving Flask app '__main__'\n",
            " * Debug mode: on\n"
          ]
        },
        {
          "output_type": "stream",
          "name": "stderr",
          "text": [
            "INFO:werkzeug:\u001b[31m\u001b[1mWARNING: This is a development server. Do not use it in a production deployment. Use a production WSGI server instead.\u001b[0m\n",
            " * Running on http://127.0.0.1:5000\n",
            "INFO:werkzeug:\u001b[33mPress CTRL+C to quit\u001b[0m\n",
            "INFO:werkzeug: * Restarting with stat\n"
          ]
        }
      ]
    },
    {
      "cell_type": "code",
      "source": [
        "from flask import Flask, redirect\n",
        "\n",
        "app = Flask(__name__)\n",
        "\n",
        "@app.route('/descargar_elemento_matrix')\n",
        "def descargar_perfil_matrix():\n",
        "    # Reemplaza 'ENLACE_DE_GOOGLE_DRIVE' con el enlace directo de Google Drive\n",
        "    return redirect('/content/elemento_matrix.pkl')\n",
        "\n",
        "if __name__ == '__main__':\n",
        "    app.run(debug=True)\n"
      ],
      "metadata": {
        "id": "KO-8NObw8DYa"
      },
      "execution_count": null,
      "outputs": []
    },
    {
      "cell_type": "code",
      "source": [
        "from flask import Flask, redirect\n",
        "\n",
        "app = Flask(__name__)\n",
        "\n",
        "@app.route('/descargar_similarity_df')\n",
        "def descargar_perfil_matrix():\n",
        "    # Reemplaza 'ENLACE_DE_GOOGLE_DRIVE' con el enlace directo de Google Drive\n",
        "    return redirect('/content/similarity_df.pkl')\n",
        "\n",
        "if __name__ == '__main__':\n",
        "    app.run(debug=True)\n"
      ],
      "metadata": {
        "id": "1guA2G46UaMh"
      },
      "execution_count": null,
      "outputs": []
    },
    {
      "cell_type": "code",
      "source": [
        "pip install gunicorn"
      ],
      "metadata": {
        "colab": {
          "base_uri": "https://localhost:8080/"
        },
        "id": "mc6jrpgJPmKV",
        "outputId": "cb399f16-275c-4a44-f03d-9ef5ca8e6a40"
      },
      "execution_count": null,
      "outputs": [
        {
          "output_type": "stream",
          "name": "stdout",
          "text": [
            "Collecting gunicorn\n",
            "  Downloading gunicorn-21.2.0-py3-none-any.whl (80 kB)\n",
            "\u001b[?25l     \u001b[90m━━━━━━━━━━━━━━━━━━━━━━━━━━━━━━━━━━━━━━━━\u001b[0m \u001b[32m0.0/80.2 kB\u001b[0m \u001b[31m?\u001b[0m eta \u001b[36m-:--:--\u001b[0m\r\u001b[2K     \u001b[91m━━━━━━━━━━━━━━━━━━━━━━━━━━━━━━\u001b[0m\u001b[91m╸\u001b[0m\u001b[90m━━━━━━━━━\u001b[0m \u001b[32m61.4/80.2 kB\u001b[0m \u001b[31m2.0 MB/s\u001b[0m eta \u001b[36m0:00:01\u001b[0m\r\u001b[2K     \u001b[90m━━━━━━━━━━━━━━━━━━━━━━━━━━━━━━━━━━━━━━━━\u001b[0m \u001b[32m80.2/80.2 kB\u001b[0m \u001b[31m1.5 MB/s\u001b[0m eta \u001b[36m0:00:00\u001b[0m\n",
            "\u001b[?25hRequirement already satisfied: packaging in /usr/local/lib/python3.10/dist-packages (from gunicorn) (23.2)\n",
            "Installing collected packages: gunicorn\n",
            "Successfully installed gunicorn-21.2.0\n"
          ]
        }
      ]
    }
  ]
}